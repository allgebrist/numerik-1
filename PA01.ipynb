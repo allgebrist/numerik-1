{
 "cells": [
  {
   "cell_type": "code",
   "execution_count": 36,
   "metadata": {},
   "outputs": [],
   "source": [
    "import matplotlib\n",
    "import numpy as np\n",
    "import sklearn\n",
    "import skimage"
   ]
  },
  {
   "cell_type": "code",
   "execution_count": 37,
   "metadata": {},
   "outputs": [],
   "source": [
    "def weighted_mean(A,W):\n",
    "    return np.sum(A*W)"
   ]
  },
  {
   "cell_type": "code",
   "execution_count": 38,
   "metadata": {},
   "outputs": [],
   "source": [
    "def weighted_median(A,W):\n",
    "    indices = np.unravel_index(np.argsort(A, axis=None), A.shape)\n",
    "\n",
    "    weighted_sum, i = 0 , 0\n",
    "\n",
    "    while weighted_sum < 0.5:\n",
    "        weighted_sum += W[indices[0][i],indices[1][i]]\n",
    "        i+=1\n",
    "    \n",
    "    return A[indices[0][i],indices[1][i]]"
   ]
  },
  {
   "cell_type": "code",
   "execution_count": 43,
   "metadata": {},
   "outputs": [],
   "source": [
    "def MAD(func, trials):\n",
    "    values = np.zeros(trials)\n",
    "    for i in range(trials):\n",
    "        size = (np.random.randint(1,50), np.random.randint(1,50))\n",
    "        A = np.random.randint(0, 255, size)\n",
    "        W = np.random.randint(0, 255, size)\n",
    "        W = W/np.sum(W)\n",
    "        values[i] = func(A,W)\n",
    "    return np.median(np.absolute(values - np.mean(values)))"
   ]
  },
  {
   "cell_type": "code",
   "execution_count": 45,
   "metadata": {},
   "outputs": [
    {
     "name": "stdout",
     "output_type": "stream",
     "text": [
      "The Median Absolute Deviation of the weighted_mean function is 2.21 with 100 tests.\n",
      "The Median Absolute Deviation of the weighted_median function is 5.0 with 100 tests.\n"
     ]
    }
   ],
   "source": [
    "tests = 100\n",
    "\n",
    "print(\"The Median Absolute Deviation of the weighted_mean function is {0:.3} with {1} tests.\".format(MAD(weighted_mean,tests),tests))\n",
    "print(\"The Median Absolute Deviation of the weighted_median function is {0:.3} with {1} tests.\".format(MAD(weighted_median,tests),tests))"
   ]
  },
  {
   "cell_type": "code",
   "execution_count": 11,
   "metadata": {},
   "outputs": [],
   "source": [
    "def mittelwert_filter(A,W):\n",
    "    pass"
   ]
  },
  {
   "cell_type": "code",
   "execution_count": null,
   "metadata": {},
   "outputs": [],
   "source": [
    "def median_filter(A,W):\n",
    "    pass"
   ]
  }
 ],
 "metadata": {
  "interpreter": {
   "hash": "aee8b7b246df8f9039afb4144a1f6fd8d2ca17a180786b69acc140d282b71a49"
  },
  "kernelspec": {
   "display_name": "Python 3.8.5 64-bit",
   "name": "python3"
  },
  "language_info": {
   "codemirror_mode": {
    "name": "ipython",
    "version": 3
   },
   "file_extension": ".py",
   "mimetype": "text/x-python",
   "name": "python",
   "nbconvert_exporter": "python",
   "pygments_lexer": "ipython3",
   "version": "3.8.5"
  },
  "orig_nbformat": 4
 },
 "nbformat": 4,
 "nbformat_minor": 2
}
